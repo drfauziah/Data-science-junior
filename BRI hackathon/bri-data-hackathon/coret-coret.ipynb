{
 "cells": [
  {
   "cell_type": "code",
   "execution_count": 1,
   "metadata": {},
   "outputs": [],
   "source": [
    "# import dataset\n",
    "import pandas as pd\n",
    "import numpy as np\n",
    "\n",
    "data_latih = pd.read_csv(\"train.csv\")"
   ]
  },
  {
   "cell_type": "code",
   "execution_count": 2,
   "metadata": {},
   "outputs": [
    {
     "name": "stdout",
     "output_type": "stream",
     "text": [
      "job_level column missing values: 0\n",
      "job_duration_in_current_job_level column missing values: 0\n",
      "person_level column missing values: 0\n",
      "job_duration_in_current_person_level column missing values: 0\n",
      "job_duration_in_current_branch column missing values: 0\n",
      "Employee_type column missing values: 0\n",
      "gender column missing values: 0\n",
      "age column missing values: 0\n",
      "marital_status_maried(Y/N) column missing values: 0\n",
      "number_of_dependences column missing values: 0\n",
      "Education_level column missing values: 0\n",
      "GPA column missing values: 0\n",
      "year_graduated column missing values: 0\n",
      "job_duration_from_training column missing values: 0\n",
      "branch_rotation column missing values: 0\n",
      "job_rotation column missing values: 0\n",
      "assign_of_otherposition column missing values: 0\n",
      "annual leave column missing values: 0\n",
      "sick_leaves column missing values: 0\n",
      "Last_achievement_% column missing values: 1\n",
      "Achievement_above_100%_during3quartal column missing values: 1\n",
      "Best Performance column missing values: 0\n"
     ]
    }
   ],
   "source": [
    "# mengetahui jumlah missing value dari setiap kolom\n",
    "for col in data_latih.columns.tolist():\n",
    "    print('{} column missing values: {}'.format(col, data_latih[col].isnull().sum()))"
   ]
  },
  {
   "cell_type": "code",
   "execution_count": 3,
   "metadata": {},
   "outputs": [
    {
     "name": "stdout",
     "output_type": "stream",
     "text": [
      "True\n",
      "False\n"
     ]
    }
   ],
   "source": [
    "# mengecek apakah terdapat data kosong (Null/NaN)\n",
    "print(data_latih.isnull().values.any())\n",
    "\n",
    "# menghapus missing value\n",
    "data_latih = data_latih.dropna(axis=0, how=\"any\")\n",
    "\n",
    "# mengecek apakah terdapat data kosong (Null/NaN)\n",
    "print(data_latih.isnull().values.any())"
   ]
  },
  {
   "cell_type": "code",
   "execution_count": 4,
   "metadata": {},
   "outputs": [],
   "source": [
    "# melakukan encoding untuk data kategorikal\n",
    "from sklearn.preprocessing import OneHotEncoder, LabelEncoder,StandardScaler\n",
    "kategorik = ['job_level','person_level','Education_level','Employee_type','marital_status_maried(Y/N)']\n",
    "\n",
    "for fitur in kategorik:\n",
    "    data_latih[fitur] = LabelEncoder().fit_transform(data_latih[fitur])"
   ]
  },
  {
   "cell_type": "code",
   "execution_count": 6,
   "metadata": {},
   "outputs": [
    {
     "name": "stdout",
     "output_type": "stream",
     "text": [
      "akurasi latih: 1.0\n",
      "akurasi latih: 0.8556485355648535\n"
     ]
    }
   ],
   "source": [
    "# pemodelan\n",
    "from sklearn.ensemble import RandomForestClassifier\n",
    "from sklearn.model_selection import train_test_split\n",
    "from sklearn.metrics import accuracy_score\n",
    "\n",
    "X = StandardScaler().fit_transform(data_latih.drop(\"Best Performance\", axis = 1))\n",
    "y = data_latih[\"Best Performance\"]\n",
    "X_latih, X_uji, y_latih, y_uji = train_test_split(X, y, test_size=0.3)\n",
    "model = RandomForestClassifier().fit(X_latih, y_latih)\n",
    "\n",
    "y_pred_latih = model.predict(X_latih)\n",
    "akurasi = accuracy_score(y_latih, y_pred_latih)\n",
    "print('akurasi latih:', akurasi)\n",
    "\n",
    "y_pred_uji = model.predict(X_uji)\n",
    "akurasi = accuracy_score(y_uji, y_pred_uji)\n",
    "print('akurasi latih:', akurasi)"
   ]
  },
  {
   "cell_type": "code",
   "execution_count": 7,
   "metadata": {},
   "outputs": [
    {
     "name": "stdout",
     "output_type": "stream",
     "text": [
      "[0 0 0 ... 0 0 0]\n"
     ]
    }
   ],
   "source": [
    "print(y_pred_uji)"
   ]
  },
  {
   "cell_type": "code",
   "execution_count": null,
   "metadata": {},
   "outputs": [],
   "source": [
    "## feature selection ##2\n",
    "from numpy import set_printoptions\n",
    "from sklearn.feature_selection import SelectKBest\n",
    "from sklearn.feature_selection import f_classif\n",
    "\n",
    "test = SelectKBest(score_func=f_classif)\n",
    "fit = test.fit(X_latih, y_latih)\n",
    "# summarize scores\n",
    "set_printoptions(precision=3)\n",
    "rank2 = zip(fit.scores_, data_latih.drop(\"Best Performance\", axis = 1).columns)\n",
    "sorted(rank2, key=lambda t: t[0], reverse=True)"
   ]
  },
  {
   "cell_type": "markdown",
   "metadata": {},
   "source": [
    "fitur yang memiliki rank terendah dari dua metode feature selection:\n",
    "- number_of_dependences\n",
    "- job_rotation\n",
    "- assign_of_otherposition\n",
    "- Achievement_above_100%_during3quartal\n",
    "- person_level\n",
    "- job_level"
   ]
  },
  {
   "cell_type": "code",
   "execution_count": null,
   "metadata": {},
   "outputs": [],
   "source": [
    "# drop fitur yang tida diperlukan\n",
    "fitur = [\"number_of_dependences\",\"job_rotation\",\"assign_of_otherposition\",\n",
    "         \"Achievement_above_100%_during3quartal\",\"person_level\",\"job_level\"]\n",
    "semua_data = list(map(lambda d:d.drop(fitur, axis = 1), [data_latih, data_uji]))\n",
    "\n",
    "# standardscaler dan pemisahan fitur target\n",
    "standard_scaler = StandardScaler()\n",
    "standard_scaler.fit(semua_data[0].drop(\"Best Performance\", axis = 1))\n",
    "X_latih = standard_scaler.transform(semua_data[0].drop(\"Best Performance\", axis = 1))\n",
    "y_latih = semua_data[0][\"Best Performance\"]\n",
    "X_test = standard_scaler.transform(semua_data[1])\n",
    "\n",
    "# training\n",
    "model = RandomForestRegressor().fit(X_latih, y_latih)\n",
    "\n",
    "y_pred_latih = model.predict(X_latih)\n",
    "AUC = roc_auc_score(y_latih, y_pred_latih)\n",
    "print(AUC)"
   ]
  },
  {
   "cell_type": "code",
   "execution_count": null,
   "metadata": {},
   "outputs": [],
   "source": [
    "# prediksi\n",
    "y_pred_uji = model.predict(X_test)\n",
    "submission = pd.read_csv(\"submission.csv\")\n",
    "submission[\"Best Performance\"] = y_pred_uji\n",
    "submission"
   ]
  },
  {
   "cell_type": "code",
   "execution_count": null,
   "metadata": {},
   "outputs": [],
   "source": [
    "submission.to_csv(\"submission_v3.csv\", index=False)"
   ]
  }
 ],
 "metadata": {
  "kernelspec": {
   "display_name": "Python 3",
   "language": "python",
   "name": "python3"
  },
  "language_info": {
   "codemirror_mode": {
    "name": "ipython",
    "version": 3
   },
   "file_extension": ".py",
   "mimetype": "text/x-python",
   "name": "python",
   "nbconvert_exporter": "python",
   "pygments_lexer": "ipython3",
   "version": "3.7.9"
  }
 },
 "nbformat": 4,
 "nbformat_minor": 4
}
