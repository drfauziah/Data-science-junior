{
 "cells": [
  {
   "cell_type": "markdown",
   "metadata": {},
   "source": [
    "### Handling Missing Value\n",
    "Penanggulangan data yang hilang atau kosong"
   ]
  },
  {
   "cell_type": "code",
   "execution_count": 3,
   "metadata": {},
   "outputs": [
    {
     "name": "stdout",
     "output_type": "stream",
     "text": [
      "False\n"
     ]
    }
   ],
   "source": [
    "import pandas as pd\n",
    "\n",
    "data = pd.read_excel(\"sample.xlsx\")\n",
    "\n",
    "# mengecek apakah terdapat data kosong (Null/NaN)\n",
    "print(data.isnull().values.any())"
   ]
  },
  {
   "cell_type": "code",
   "execution_count": 4,
   "metadata": {},
   "outputs": [
    {
     "name": "stdout",
     "output_type": "stream",
     "text": [
      "True\n"
     ]
    }
   ],
   "source": [
    "data = pd.read_excel(\"miss_sample.xlsx\")\n",
    "\n",
    "# mengecek apakah terdapat data kosong (Null/NaN)\n",
    "print(data.isnull().values.any())"
   ]
  },
  {
   "cell_type": "markdown",
   "metadata": {},
   "source": [
    "** False : data tidak mengandung null/nan\n",
    "\n",
    "** True : data mengandung null/nan\n",
    "\n",
    "#### Solusi mengatasi data miss\n",
    "by DQLab\n",
    "![Solusi](Solusi_data_miss.PNG)"
   ]
  },
  {
   "cell_type": "markdown",
   "metadata": {},
   "source": [
    "#### 1. Mengisi dengan Mean\n",
    "- Mean digunakan untuk data yang memiliki sedikit outlier/anomali dalam persebaran isi data\n",
    "- fungsi `.mean()` berfungsi menampilkan nilai rata-rata di setiap kolom"
   ]
  },
  {
   "cell_type": "code",
   "execution_count": 5,
   "metadata": {},
   "outputs": [
    {
     "name": "stdout",
     "output_type": "stream",
     "text": [
      "rh      73.113770\n",
      "co2    959.158371\n",
      "ta      30.461224\n",
      "tg      29.823932\n",
      "li       3.100383\n",
      "dtype: float64\n"
     ]
    }
   ],
   "source": [
    "print(data.mean())"
   ]
  },
  {
   "cell_type": "code",
   "execution_count": 6,
   "metadata": {},
   "outputs": [],
   "source": [
    "#mengisi data miss dengan mean\n",
    "data = data.fillna(data.mean())"
   ]
  },
  {
   "cell_type": "code",
   "execution_count": 7,
   "metadata": {},
   "outputs": [
    {
     "name": "stdout",
     "output_type": "stream",
     "text": [
      "False\n"
     ]
    }
   ],
   "source": [
    "# mengecek apakah terdapat data kosong (Null/NaN)\n",
    "print(data.isnull().values.any())"
   ]
  },
  {
   "cell_type": "markdown",
   "metadata": {},
   "source": [
    "#### 2. Mengisi dengan Median\n",
    "-  median digunakan untuk data yang memiliki sifat outlier yang kuat"
   ]
  },
  {
   "cell_type": "code",
   "execution_count": 8,
   "metadata": {},
   "outputs": [
    {
     "name": "stdout",
     "output_type": "stream",
     "text": [
      "rh      73.200\n",
      "co2    958.000\n",
      "ta      30.900\n",
      "tg      30.125\n",
      "li       2.500\n",
      "dtype: float64\n"
     ]
    }
   ],
   "source": [
    "data = pd.read_excel(\"miss_sample.xlsx\")\n",
    "print(data.median())"
   ]
  },
  {
   "cell_type": "code",
   "execution_count": 11,
   "metadata": {},
   "outputs": [
    {
     "name": "stdout",
     "output_type": "stream",
     "text": [
      "False\n"
     ]
    }
   ],
   "source": [
    "# mengisi data kosong dengan median\n",
    "data_lengkap = data.fillna(data.median())\n",
    "\n",
    "# mengecek apakah terdapat data kosong\n",
    "print(data_lengkap.isnull().values.any())"
   ]
  }
 ],
 "metadata": {
  "kernelspec": {
   "display_name": "Python 3",
   "language": "python",
   "name": "python3"
  },
  "language_info": {
   "codemirror_mode": {
    "name": "ipython",
    "version": 3
   },
   "file_extension": ".py",
   "mimetype": "text/x-python",
   "name": "python",
   "nbconvert_exporter": "python",
   "pygments_lexer": "ipython3",
   "version": "3.6.2"
  }
 },
 "nbformat": 4,
 "nbformat_minor": 4
}
